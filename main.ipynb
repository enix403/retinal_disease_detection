{
 "cells": [
  {
   "cell_type": "code",
   "execution_count": 1,
   "id": "5491170b-07e7-491d-851b-71bb35337409",
   "metadata": {},
   "outputs": [],
   "source": [
    "%load_ext autoreload\n",
    "%autoreload 2"
   ]
  },
  {
   "cell_type": "code",
   "execution_count": 2,
   "id": "dbe1ebe7-a167-4503-a611-9b8f63ff4c0d",
   "metadata": {},
   "outputs": [],
   "source": [
    "import os\n",
    "from pathlib import Path\n",
    "\n",
    "import numpy as np\n",
    "import torch\n",
    "import torch as tr\n",
    "import torch.nn.functional as F\n",
    "from torch.utils.data import Dataset, DataLoader\n",
    "import torchvision as tv\n",
    "from torchvision.transforms import v2\n",
    "import pandas as pd\n",
    "import matplotlib.pyplot as plt\n",
    "import mplcyberpunk\n",
    "\n",
    "plt.style.use(\"cyberpunk\")\n",
    "\n",
    "%matplotlib inline"
   ]
  },
  {
   "cell_type": "code",
   "execution_count": 25,
   "id": "2cc713bc-dac9-4b37-a2f4-a7afb377263c",
   "metadata": {},
   "outputs": [],
   "source": [
    "from impl.arch import ConvNetwork"
   ]
  },
  {
   "cell_type": "code",
   "execution_count": 4,
   "id": "449cfce1-b5f6-4af2-8cec-91b45499d75a",
   "metadata": {},
   "outputs": [
    {
     "name": "stderr",
     "output_type": "stream",
     "text": [
      "100%|███████████████████████████| 1920/1920 [07:38<00:00,  4.19it/s]\n",
      "100%|█████████████████████████████| 640/640 [02:36<00:00,  4.10it/s]\n"
     ]
    }
   ],
   "source": [
    "import impl.retinal_dataset as rd\n",
    "\n",
    "transform = v2.Compose([\n",
    "    v2.ToImage(),\n",
    "    v2.ToDtype(torch.float32, scale=True),\n",
    "    v2.Resize((224, 224)),\n",
    "])\n",
    "\n",
    "train_dataset = rd.RetinalDataset(transform=transform, split=\"train\", num_rows=-1)\n",
    "test_dataset = rd.RetinalDataset(transform=transform, split=\"test\", num_rows=-1)"
   ]
  },
  {
   "cell_type": "code",
   "execution_count": 5,
   "id": "239df4b8-13e6-4545-8483-d01f3410bf74",
   "metadata": {},
   "outputs": [],
   "source": [
    "train_dataloader = DataLoader(train_dataset, batch_size=64)"
   ]
  },
  {
   "cell_type": "code",
   "execution_count": 26,
   "id": "a863ff8c-6f27-4faf-a9d0-3f25d69faea5",
   "metadata": {},
   "outputs": [],
   "source": [
    "model = ConvNetwork()"
   ]
  },
  {
   "cell_type": "code",
   "execution_count": 7,
   "id": "727d2ee7-7382-4e29-a3c5-a0b2b984671a",
   "metadata": {},
   "outputs": [],
   "source": [
    "optimizer = torch.optim.Adam(model.parameters(), lr=0.5)\n",
    "loss_fn = nn.CrossEntropyLoss()"
   ]
  },
  {
   "cell_type": "code",
   "execution_count": null,
   "id": "783ce10e-4029-43b3-80a0-9d2a0eaf7bf7",
   "metadata": {},
   "outputs": [],
   "source": [
    "model.train()\n",
    "for i in range(4):\n",
    "    epoch_loss = 0\n",
    "    # b = 0\n",
    "\n",
    "    for images, labels in train_dataloader:\n",
    "        model.train()\n",
    "\n",
    "        optimizer.zero_grad()\n",
    "        logits = model(images)\n",
    "        loss = loss_fn(logits, labels)\n",
    "        # if b % 4 == 0:\n",
    "        #     print(f\"{b+1}: {loss/len(images)}\")\n",
    "\n",
    "        loss.backward()\n",
    "        optimizer.step()\n",
    "\n",
    "        epoch_loss += loss.item()\n",
    "        # b += 1\n",
    "\n",
    "    print(f\"==== Epoch {i+1}: train_loss={epoch_loss/len(train_dataset):.10f}\")\n",
    "\n",
    "print(\"Done\")"
   ]
  },
  {
   "cell_type": "code",
   "execution_count": null,
   "id": "3d410589-4a67-4fcd-bec9-dfb67b9c00f9",
   "metadata": {},
   "outputs": [],
   "source": [
    "# torch.save({'model_state': model.state_dict()},'checkpoints/model1_004.chk')"
   ]
  },
  {
   "cell_type": "code",
   "execution_count": 27,
   "id": "47bd337d-56ff-4dd0-b7f2-d4236f115c1f",
   "metadata": {},
   "outputs": [
    {
     "name": "stderr",
     "output_type": "stream",
     "text": [
      "/tmp/ipykernel_10856/2431252852.py:1: FutureWarning: You are using `torch.load` with `weights_only=False` (the current default value), which uses the default pickle module implicitly. It is possible to construct malicious pickle data which will execute arbitrary code during unpickling (See https://github.com/pytorch/pytorch/blob/main/SECURITY.md#untrusted-models for more details). In a future release, the default value for `weights_only` will be flipped to `True`. This limits the functions that could be executed during unpickling. Arbitrary objects will no longer be allowed to be loaded via this mode unless they are explicitly allowlisted by the user via `torch.serialization.add_safe_globals`. We recommend you start setting `weights_only=True` for any use case where you don't have full control of the loaded file. Please open an issue on GitHub for any issues related to this experimental feature.\n",
      "  checkpoint = torch.load('checkpoints/model1_003.chk')\n"
     ]
    },
    {
     "data": {
      "text/plain": [
       "<All keys matched successfully>"
      ]
     },
     "execution_count": 27,
     "metadata": {},
     "output_type": "execute_result"
    }
   ],
   "source": [
    "# checkpoint = torch.load('checkpoints/model1_003.chk')\n",
    "# model.load_state_dict(checkpoint['model_state'])"
   ]
  },
  {
   "cell_type": "code",
   "execution_count": 12,
   "id": "53b1b31c-834d-48ff-8fac-93e986367f10",
   "metadata": {},
   "outputs": [],
   "source": [
    "@torch.no_grad()\n",
    "def calculate_loss(dataset):\n",
    "    model.eval()\n",
    "\n",
    "    total_loss = 0\n",
    "    for images, labels in dataloader:\n",
    "        logits = model(images)\n",
    "        loss = loss_fn(logits, labels)\n",
    "        total_loss += loss.item()\n",
    "\n",
    "    total_loss /= len(dataset)\n",
    "    return total_loss"
   ]
  },
  {
   "cell_type": "code",
   "execution_count": null,
   "id": "0229ac47-bd19-4aff-8903-bfeb2eabf12e",
   "metadata": {},
   "outputs": [],
   "source": [
    "train_loss = calculate_loss(train_dataset)\n",
    "print(f\"{train_loss=}\")\n",
    "\n",
    "test_loss = calculate_loss(test_dataset)\n",
    "print(f\"{test_loss=}\")"
   ]
  },
  {
   "cell_type": "code",
   "execution_count": 32,
   "id": "501f95fa-5c24-4816-9536-8e88ec8b771e",
   "metadata": {},
   "outputs": [
    {
     "name": "stderr",
     "output_type": "stream",
     "text": [
      "Clipping input data to the valid range for imshow with RGB data ([0..1] for floats or [0..255] for integers). Got range [0.0..1.0000004].\n"
     ]
    },
    {
     "data": {
      "text/plain": [
       "Text(0.5, 1.0, 'y=1, pred=1')"
      ]
     },
     "execution_count": 32,
     "metadata": {},
     "output_type": "execute_result"
    },
    {
     "data": {
      "image/png": "[encoded data removed]",
      "text/plain": [
       "<Figure size 200x200 with 1 Axes>"
      ]
     },
     "metadata": {},
     "output_type": "display_data"
    }
   ],
   "source": [
    "model.eval()\n",
    "\n",
    "plt.figure(figsize=(2,2))\n",
    "\n",
    "index = 16\n",
    "image, label = test_dataset[index]\n",
    "logits = model(image)\n",
    "pred_label = logits.argmax(dim=0).item()\n",
    "\n",
    "plt.imshow(image.movedim(0,-1))\n",
    "plt.axis('off')\n",
    "plt.title(f\"y={label}, pred={pred_label}\")"
   ]
  }
 ],
 "metadata": {
  "kernelspec": {
   "display_name": "Python 3 (ipykernel)",
   "language": "python",
   "name": "python3"
  },
  "language_info": {
   "codemirror_mode": {
    "name": "ipython",
    "version": 3
   },
   "file_extension": ".py",
   "mimetype": "text/x-python",
   "name": "python",
   "nbconvert_exporter": "python",
   "pygments_lexer": "ipython3",
   "version": "3.12.7"
  }
 },
 "nbformat": 4,
 "nbformat_minor": 5
}
