{
 "cells": [
  {
   "cell_type": "code",
   "execution_count": 1,
   "id": "5491170b-07e7-491d-851b-71bb35337409",
   "metadata": {},
   "outputs": [],
   "source": [
    "%load_ext autoreload\n",
    "%autoreload 2"
   ]
  },
  {
   "cell_type": "code",
   "execution_count": 2,
   "id": "dbe1ebe7-a167-4503-a611-9b8f63ff4c0d",
   "metadata": {},
   "outputs": [],
   "source": [
    "import os\n",
    "from pathlib import Path\n",
    "\n",
    "import numpy as np\n",
    "import torch\n",
    "import torch as tr\n",
    "import torch.nn.functional as F\n",
    "from torch.utils.data import Dataset, DataLoader\n",
    "import torchvision as tv\n",
    "from torchvision.transforms import v2\n",
    "import pandas as pd\n",
    "import matplotlib.pyplot as plt\n",
    "import mplcyberpunk\n",
    "\n",
    "plt.style.use(\"cyberpunk\")\n",
    "\n",
    "%matplotlib inline"
   ]
  },
  {
   "cell_type": "code",
   "execution_count": 39,
   "id": "2cc713bc-dac9-4b37-a2f4-a7afb377263c",
   "metadata": {},
   "outputs": [],
   "source": [
    "from impl.arch import *"
   ]
  },
  {
   "cell_type": "code",
   "execution_count": 4,
   "id": "449cfce1-b5f6-4af2-8cec-91b45499d75a",
   "metadata": {},
   "outputs": [
    {
     "name": "stderr",
     "output_type": "stream",
     "text": [
      "100%|█████████████████████████████| 512/512 [01:20<00:00,  6.33it/s]\n"
     ]
    }
   ],
   "source": [
    "import impl.retinal_dataset as rd\n",
    "\n",
    "transform = v2.Compose([\n",
    "    v2.ToImage(),\n",
    "    v2.ToDtype(torch.float32, scale=True),\n",
    "    v2.Resize((224, 224)),\n",
    "])\n",
    "\n",
    "train_dataset = rd.RetinalDataset(transform=transform)"
   ]
  },
  {
   "cell_type": "code",
   "execution_count": 57,
   "id": "239df4b8-13e6-4545-8483-d01f3410bf74",
   "metadata": {},
   "outputs": [],
   "source": [
    "train_dataloader = DataLoader(train_dataset, batch_size=128, shuffle=True)"
   ]
  },
  {
   "cell_type": "code",
   "execution_count": null,
   "id": "2190e4eb-7014-469e-9f9d-0b59ad4f3f0e",
   "metadata": {},
   "outputs": [],
   "source": [
    "# plt.figure(figsize=(12,4))\n",
    "# disease_counts = train_dataset.labels_df.iloc[:, 2:].sum().sort_values(ascending=False)\n",
    "# disease_counts.plot.bar()"
   ]
  },
  {
   "cell_type": "code",
   "execution_count": 58,
   "id": "a863ff8c-6f27-4faf-a9d0-3f25d69faea5",
   "metadata": {},
   "outputs": [],
   "source": [
    "model = Model1()"
   ]
  },
  {
   "cell_type": "code",
   "execution_count": 60,
   "id": "727d2ee7-7382-4e29-a3c5-a0b2b984671a",
   "metadata": {},
   "outputs": [],
   "source": [
    "optimizer = torch.optim.Adam(model.parameters(), lr=100)\n",
    "loss_fn = nn.BCEWithLogitsLoss()"
   ]
  },
  {
   "cell_type": "code",
   "execution_count": 61,
   "id": "783ce10e-4029-43b3-80a0-9d2a0eaf7bf7",
   "metadata": {},
   "outputs": [
    {
     "name": "stdout",
     "output_type": "stream",
     "text": [
      "1: 0.5525802969932556\n",
      "2: 0.4616992473602295\n",
      "3: 0.4695117175579071\n",
      "4: 0.4304492473602295\n",
      "==== Epoch 1: train_loss=0.0037387510\n",
      "1: 0.4460742473602295\n",
      "2: 0.4538867473602295\n",
      "3: 0.4460742175579071\n",
      "4: 0.4851367175579071\n",
      "==== Epoch 2: train_loss=0.0035765077\n",
      "1: 0.4382617175579071\n",
      "2: 0.4538867175579071\n",
      "3: 0.4851367473602295\n",
      "4: 0.4538867473602295\n",
      "==== Epoch 3: train_loss=0.0035765077\n",
      "1: 0.4695117175579071\n",
      "2: 0.4851367175579071\n",
      "3: 0.4382617175579071\n",
      "4: 0.4382617175579071\n",
      "==== Epoch 4: train_loss=0.0035765076\n",
      "1: 0.4460742473602295\n",
      "2: 0.4695117473602295\n",
      "3: 0.4695117175579071\n",
      "4: 0.4460742473602295\n",
      "==== Epoch 5: train_loss=0.0035765077\n",
      "1: 0.4695117175579071\n",
      "2: 0.4460742175579071\n",
      "3: 0.4616992473602295\n",
      "4: 0.4538867175579071\n",
      "==== Epoch 6: train_loss=0.0035765076\n",
      "1: 0.4304492175579071\n",
      "2: 0.4382617175579071\n",
      "3: 0.4616992473602295\n",
      "4: 0.5007616877555847\n",
      "==== Epoch 7: train_loss=0.0035765076\n",
      "1: 0.5241992473602295\n",
      "2: 0.4148242175579071\n",
      "3: 0.4226367175579071\n",
      "4: 0.4695117175579071\n",
      "==== Epoch 8: train_loss=0.0035765076\n",
      "Done\n"
     ]
    }
   ],
   "source": [
    "for i in range(8):\n",
    "    epoch_loss = 0\n",
    "    b = 0\n",
    "\n",
    "    for images, labels in train_dataloader:\n",
    "        model.train()\n",
    "\n",
    "        optimizer.zero_grad()\n",
    "        logits = model(images)\n",
    "        probs = F.sigmoid(logits)\n",
    "        loss = loss_fn(probs, labels.view(-1, 1).float())\n",
    "        print(f\"{b+1}: {loss}\")\n",
    "\n",
    "        loss.backward()\n",
    "        optimizer.step()\n",
    "\n",
    "        epoch_loss += loss.item()\n",
    "        b += 1\n",
    "\n",
    "    print(f\"==== Epoch {i+1}: train_loss={epoch_loss/len(train_dataset):.10f}\")\n",
    "\n",
    "print(\"Done\")"
   ]
  },
  {
   "cell_type": "code",
   "execution_count": 62,
   "id": "3d410589-4a67-4fcd-bec9-dfb67b9c00f9",
   "metadata": {},
   "outputs": [],
   "source": [
    "# torch.save({'model_state': model.state_dict()},'checkpoints/model1_001.chk')"
   ]
  },
  {
   "cell_type": "code",
   "execution_count": null,
   "id": "47bd337d-56ff-4dd0-b7f2-d4236f115c1f",
   "metadata": {},
   "outputs": [],
   "source": [
    "# checkpoint = torch.load('checkpoints/model1_001.chk')\n",
    "# model.load_state_dict(checkpoint['model_state'])"
   ]
  }
 ],
 "metadata": {
  "kernelspec": {
   "display_name": "Python 3 (ipykernel)",
   "language": "python",
   "name": "python3"
  },
  "language_info": {
   "codemirror_mode": {
    "name": "ipython",
    "version": 3
   },
   "file_extension": ".py",
   "mimetype": "text/x-python",
   "name": "python",
   "nbconvert_exporter": "python",
   "pygments_lexer": "ipython3",
   "version": "3.12.7"
  }
 },
 "nbformat": 4,
 "nbformat_minor": 5
}
